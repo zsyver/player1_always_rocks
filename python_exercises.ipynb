{
  "cells": [
    {
      "cell_type": "markdown",
      "metadata": {
        "id": "view-in-github",
        "colab_type": "text"
      },
      "source": [
        "<a href=\"https://colab.research.google.com/github/zsyver/player1_always_rocks/blob/main/python_exercises.ipynb\" target=\"_parent\"><img src=\"https://colab.research.google.com/assets/colab-badge.svg\" alt=\"Open In Colab\"/></a>"
      ]
    },
    {
      "cell_type": "code",
      "execution_count": null,
      "id": "7d8eaff7",
      "metadata": {
        "colab": {
          "base_uri": "https://localhost:8080/"
        },
        "id": "7d8eaff7",
        "outputId": "56e4958c-e5d2-4a71-cb0c-88e6891ae415"
      },
      "outputs": [
        {
          "output_type": "execute_result",
          "data": {
            "text/plain": [
              "[1, 2, 3, 4, 5, 6, 7, 8, 9]"
            ]
          },
          "metadata": {},
          "execution_count": 1
        }
      ],
      "source": [
        "list(range(1,10))"
      ]
    },
    {
      "cell_type": "code",
      "execution_count": null,
      "id": "b42051fe",
      "metadata": {
        "id": "b42051fe"
      },
      "outputs": [],
      "source": [
        "def divisor_check(num_length):\n",
        "    long_list_of_nums = list(range(1,num_length+1))\n",
        "    list_of_divisors = []\n",
        "    for i in long_list_of_nums:\n",
        "        if num_length % i == 0:\n",
        "            list_of_divisors.append(i)\n",
        "    return list_of_divisors\n",
        "            \n",
        "        "
      ]
    },
    {
      "cell_type": "code",
      "execution_count": null,
      "id": "5364d30c",
      "metadata": {
        "colab": {
          "base_uri": "https://localhost:8080/"
        },
        "id": "5364d30c",
        "outputId": "1658c5de-13cf-4732-e423-644e452fd37f"
      },
      "outputs": [
        {
          "output_type": "execute_result",
          "data": {
            "text/plain": [
              "[1, 2, 3, 5, 6, 9, 10, 15, 18, 30, 45, 90]"
            ]
          },
          "metadata": {},
          "execution_count": 3
        }
      ],
      "source": [
        "divisor_check(90)"
      ]
    },
    {
      "cell_type": "code",
      "execution_count": null,
      "id": "19a1131f",
      "metadata": {
        "id": "19a1131f"
      },
      "outputs": [],
      "source": [
        "import random as rm"
      ]
    },
    {
      "cell_type": "code",
      "source": [
        "!python -V"
      ],
      "metadata": {
        "id": "5Tl2RS8FkTL_",
        "outputId": "79c399f9-3401-4c0a-9664-471ad37dc634",
        "colab": {
          "base_uri": "https://localhost:8080/"
        }
      },
      "id": "5Tl2RS8FkTL_",
      "execution_count": null,
      "outputs": [
        {
          "output_type": "stream",
          "name": "stdout",
          "text": [
            "Python 3.7.15\n"
          ]
        }
      ]
    },
    {
      "cell_type": "code",
      "execution_count": null,
      "id": "31eaa605",
      "metadata": {
        "colab": {
          "base_uri": "https://localhost:8080/"
        },
        "id": "31eaa605",
        "outputId": "81bd096d-8310-477c-d2ae-6096a7b24e94"
      },
      "outputs": [
        {
          "output_type": "execute_result",
          "data": {
            "text/plain": [
              "2"
            ]
          },
          "metadata": {},
          "execution_count": 5
        }
      ],
      "source": [
        "rm.randint(0,4)"
      ]
    },
    {
      "cell_type": "code",
      "execution_count": null,
      "id": "a96f43b7",
      "metadata": {
        "id": "a96f43b7"
      },
      "outputs": [],
      "source": [
        "full_list_nums = []\n",
        "full_list_nums2 = []\n",
        "length_of_list = 14\n",
        "\n",
        "for i in range(length_of_list):\n",
        "    full_list_nums2.append(rm.randint(1,100))"
      ]
    },
    {
      "cell_type": "code",
      "execution_count": null,
      "id": "fb7ece69",
      "metadata": {
        "colab": {
          "base_uri": "https://localhost:8080/"
        },
        "id": "fb7ece69",
        "outputId": "23140b58-a9aa-4c72-de2f-2cebdda8a8d2"
      },
      "outputs": [
        {
          "output_type": "execute_result",
          "data": {
            "text/plain": [
              "list"
            ]
          },
          "metadata": {},
          "execution_count": 7
        }
      ],
      "source": [
        "type(full_list_nums)"
      ]
    },
    {
      "cell_type": "code",
      "execution_count": null,
      "id": "02b457f3",
      "metadata": {
        "colab": {
          "base_uri": "https://localhost:8080/"
        },
        "id": "02b457f3",
        "outputId": "913b625e-7de4-4e55-982b-07baa19ec6e0"
      },
      "outputs": [
        {
          "output_type": "execute_result",
          "data": {
            "text/plain": [
              "[74, 48, 17, 85, 72, 53, 1, 69, 19, 35, 14, 42, 90, 76]"
            ]
          },
          "metadata": {},
          "execution_count": 8
        }
      ],
      "source": [
        "full_list_nums2"
      ]
    },
    {
      "cell_type": "code",
      "execution_count": null,
      "id": "e6ef0c6f",
      "metadata": {
        "colab": {
          "base_uri": "https://localhost:8080/"
        },
        "id": "e6ef0c6f",
        "outputId": "5b46cb4d-6664-458b-a152-6bbd80792346"
      },
      "outputs": [
        {
          "output_type": "stream",
          "name": "stdout",
          "text": [
            "bob\n",
            "bob\n",
            "bob\n",
            "bob\n",
            "bob\n",
            "bob\n",
            "bob\n",
            "bob\n",
            "bob\n",
            "bob\n",
            "bob\n",
            "bob\n",
            "bob\n",
            "bob\n",
            "bob\n",
            "bob\n",
            "bob\n",
            "bob\n",
            "bob\n",
            "bob\n"
          ]
        }
      ],
      "source": [
        "for _ in range(20):\n",
        "    print(\"bob\")"
      ]
    },
    {
      "cell_type": "code",
      "execution_count": null,
      "id": "0979817c",
      "metadata": {
        "colab": {
          "base_uri": "https://localhost:8080/"
        },
        "id": "0979817c",
        "outputId": "d9eaaa7e-a626-4a6c-b964-241b1a03e4de"
      },
      "outputs": [
        {
          "output_type": "stream",
          "name": "stdout",
          "text": [
            "[1, 2, 3, 5, 5]\n"
          ]
        }
      ],
      "source": [
        "list_ = [1,2,3,5,5]\n",
        "print(list_)"
      ]
    },
    {
      "cell_type": "code",
      "execution_count": null,
      "id": "af7ae565",
      "metadata": {
        "colab": {
          "base_uri": "https://localhost:8080/"
        },
        "id": "af7ae565",
        "outputId": "646019f5-2266-4080-a273-c9b1162f687a"
      },
      "outputs": [
        {
          "output_type": "execute_result",
          "data": {
            "text/plain": [
              "[]"
            ]
          },
          "metadata": {},
          "execution_count": 11
        }
      ],
      "source": [
        "[print(\"found one\") for i in full_list_nums if i in set(full_list_nums2)]"
      ]
    },
    {
      "cell_type": "code",
      "execution_count": null,
      "id": "ef48e476",
      "metadata": {
        "id": "ef48e476"
      },
      "outputs": [],
      "source": [
        "first_list = [rm.randint(1,100) for _ in range(rm.randint(1,50))]\n",
        "second_list = [rm.randint(1,100) for _ in range(rm.randint(1,50))]\n",
        "# l2 = []\n",
        "# l2.append(rm.randint(1,100))\n",
        "# print(l1)"
      ]
    },
    {
      "cell_type": "code",
      "execution_count": null,
      "id": "cbe9c4f2",
      "metadata": {
        "colab": {
          "base_uri": "https://localhost:8080/"
        },
        "id": "cbe9c4f2",
        "outputId": "e13db4d4-90a0-4500-c6b0-f3abe3adf66c"
      },
      "outputs": [
        {
          "output_type": "execute_result",
          "data": {
            "text/plain": [
              "[80, 77, 34, 50, 4, 15, 43, 86, 30, 48, 54, 56]"
            ]
          },
          "metadata": {},
          "execution_count": 13
        }
      ],
      "source": [
        "def check_similarity(first_list, second_list):\n",
        "    same_items = []\n",
        "    for i in first_list:\n",
        "        if i in second_list and i not in same_items:\n",
        "            same_items.append(i)\n",
        "    return same_items\n",
        "            \n",
        "check_similarity(first_list, second_list)"
      ]
    },
    {
      "cell_type": "code",
      "execution_count": null,
      "id": "01503d25",
      "metadata": {
        "colab": {
          "base_uri": "https://localhost:8080/"
        },
        "id": "01503d25",
        "outputId": "f95e96b3-485a-4b65-8e6d-1aff4c8e9563"
      },
      "outputs": [
        {
          "output_type": "stream",
          "name": "stdout",
          "text": [
            "21\n",
            "21\n"
          ]
        }
      ],
      "source": [
        "cool_string = \"superduperhupermooper\"\n",
        "print(len(cool_string[::-1]))\n",
        "print(len(cool_string))"
      ]
    },
    {
      "cell_type": "code",
      "execution_count": null,
      "id": "9ed41467",
      "metadata": {
        "colab": {
          "base_uri": "https://localhost:8080/"
        },
        "id": "9ed41467",
        "outputId": "233b40b3-f869-4b61-e45d-bddc43416040"
      },
      "outputs": [
        {
          "output_type": "stream",
          "name": "stdout",
          "text": [
            "This is a palindrome\n"
          ]
        }
      ],
      "source": [
        "def string_pal_check(string):\n",
        "    if string[::-1] == string:\n",
        "        print(\"This is a palindrome\")\n",
        "    else:\n",
        "        print(\"This is not a palindrome\")\n",
        "string_pal_check(\"nummun\")"
      ]
    },
    {
      "cell_type": "code",
      "execution_count": null,
      "id": "39c5855c",
      "metadata": {
        "id": "39c5855c"
      },
      "outputs": [],
      "source": [
        "a = [1, 4, 9, 16, 25, 36, 49, 64, 81, 100]\n",
        "even_nums = [a for a in a if a % 2 ==0]"
      ]
    },
    {
      "cell_type": "code",
      "source": [
        "even_nums"
      ],
      "metadata": {
        "colab": {
          "base_uri": "https://localhost:8080/"
        },
        "id": "DpmMK0idkfdg",
        "outputId": "41fdc18d-b1a6-4c4b-ada6-9dae8783361b"
      },
      "id": "DpmMK0idkfdg",
      "execution_count": null,
      "outputs": [
        {
          "output_type": "execute_result",
          "data": {
            "text/plain": [
              "[4, 16, 36, 64, 100]"
            ]
          },
          "metadata": {},
          "execution_count": 20
        }
      ]
    },
    {
      "cell_type": "code",
      "source": [
        "player1_choice = input(\"Please input your choice: \")\n",
        "player2_choice = input(\"Please input your choice: \")\n",
        "player2\n",
        "player1\n",
        "\n",
        "def rock_pp_scissors(player1_choice,player2_choice):\n",
        "  "
      ],
      "metadata": {
        "colab": {
          "base_uri": "https://localhost:8080/",
          "height": 73
        },
        "id": "BpsNHFytkgIb",
        "outputId": "2b7d53d3-efc2-422c-e961-dbb4ec2e0a7b"
      },
      "id": "BpsNHFytkgIb",
      "execution_count": null,
      "outputs": [
        {
          "name": "stdout",
          "output_type": "stream",
          "text": [
            "Please input your choice: bob\n",
            "Please input your choice: choi\n"
          ]
        },
        {
          "output_type": "execute_result",
          "data": {
            "text/plain": [
              "'bob'"
            ],
            "application/vnd.google.colaboratory.intrinsic+json": {
              "type": "string"
            }
          },
          "metadata": {},
          "execution_count": 21
        }
      ]
    },
    {
      "cell_type": "code",
      "source": [
        "type(new_string_idea)"
      ],
      "metadata": {
        "colab": {
          "base_uri": "https://localhost:8080/"
        },
        "id": "fJEd1g3Qp9s4",
        "outputId": "0522921a-394e-4161-b089-e9c72474d0e5"
      },
      "id": "fJEd1g3Qp9s4",
      "execution_count": null,
      "outputs": [
        {
          "output_type": "execute_result",
          "data": {
            "text/plain": [
              "str"
            ]
          },
          "metadata": {},
          "execution_count": 34
        }
      ]
    },
    {
      "cell_type": "code",
      "source": [
        "new_string_idea = \"\"\n"
      ],
      "metadata": {
        "id": "PbE-NtxMp34A"
      },
      "id": "PbE-NtxMp34A",
      "execution_count": null,
      "outputs": []
    },
    {
      "cell_type": "code",
      "source": [
        "new_string_idea = 2\n"
      ],
      "metadata": {
        "id": "7fpnvfWZp6w9"
      },
      "id": "7fpnvfWZp6w9",
      "execution_count": null,
      "outputs": []
    },
    {
      "cell_type": "code",
      "source": [
        "while True:\n",
        "  try:\n",
        "    player1_choice = input(\"Player 1, please input your choice: \")\n",
        "    player2_choice = input(\"Player 2, please input your choice: \")\n",
        "    if (player1_choice.lower() or player2_choice.lower()) not in [\"rock\",\"paper\",\"scissors\"] or (player1_choice.lower() == player2_choice.lower()):\n",
        "        raise ValueError #Back to input for valid entry\n",
        "    else:\n",
        "        p1_level = 1\n",
        "        p2_level = 1\n",
        "        if player1_choice.lower() == \"rock\":\n",
        "          p1_level = 3\n",
        "        elif player1_choice.lower() == \"scissors\":\n",
        "          p1_level = 2\n",
        "        elif player1_choice.lower() == \"paper\":\n",
        "          p1_level = 1\n",
        "        elif player2_choice.lower() == \"rock\":\n",
        "          p2_level = 3\n",
        "        elif player2_choice.lower() == \"scissors\":\n",
        "          p2_level = 2\n",
        "        else:\n",
        "          player2_choice.lower() == \"paper\"\n",
        "          p2_level = 1\n",
        "        if p1_level > p2_level:\n",
        "          print(\"Player 1 won!\")\n",
        "        else:\n",
        "          print(\"Player 2 won!\")\n",
        "    break\n",
        "  except ValueError:\n",
        "    print('Players 1 and 2, please enter one of three options: \"Rock\", \"Paper\", or \"Scissors\"')\n"
      ],
      "metadata": {
        "colab": {
          "base_uri": "https://localhost:8080/"
        },
        "id": "rzGSHnSqoRrJ",
        "outputId": "8ed4df20-74e8-420e-d0e3-6eae007b5776"
      },
      "id": "rzGSHnSqoRrJ",
      "execution_count": null,
      "outputs": [
        {
          "output_type": "stream",
          "name": "stdout",
          "text": [
            "Player 1, please input your choice: bob\n",
            "Player 2, please input your choice: joe\n",
            "Players 1 and 2, please enter one of three *unique* options: \"Rock\", \"Paper\", or \"Scissors\"\n",
            "Player 1, please input your choice: haha\n",
            "Player 2, please input your choice: bob\n",
            "Players 1 and 2, please enter one of three *unique* options: \"Rock\", \"Paper\", or \"Scissors\"\n",
            "Player 1, please input your choice: rock\n",
            "Player 2, please input your choice: paper\n",
            "Player 1 won!\n"
          ]
        }
      ]
    },
    {
      "cell_type": "code",
      "source": [
        "player2"
      ],
      "metadata": {
        "colab": {
          "base_uri": "https://localhost:8080/",
          "height": 36
        },
        "id": "P45bifDslEM0",
        "outputId": "fbe5de36-133c-46e4-958d-a924d71f2ee5"
      },
      "id": "P45bifDslEM0",
      "execution_count": null,
      "outputs": [
        {
          "output_type": "execute_result",
          "data": {
            "text/plain": [
              "'choi'"
            ],
            "application/vnd.google.colaboratory.intrinsic+json": {
              "type": "string"
            }
          },
          "metadata": {},
          "execution_count": 23
        }
      ]
    },
    {
      "cell_type": "code",
      "source": [
        "while True:\n",
        "    try:\n",
        "        number1 = int(input('Number1: '))\n",
        "        if number1 < 1 or number1 > 10:\n",
        "            raise ValueError #this will send it to the print message and back to the input option\n",
        "        break\n",
        "    except ValueError:\n",
        "        print(\"Invalid integer. The number must be in the range of 1-10.\")"
      ],
      "metadata": {
        "colab": {
          "base_uri": "https://localhost:8080/"
        },
        "id": "FTWr75iflHlJ",
        "outputId": "2fd7274c-4560-4693-b829-076a9cebdf61"
      },
      "id": "FTWr75iflHlJ",
      "execution_count": null,
      "outputs": [
        {
          "name": "stdout",
          "output_type": "stream",
          "text": [
            "Number1: 900000\n",
            "Invalid integer. The number must be in the range of 1-10.\n",
            "Number1: 3\n"
          ]
        }
      ]
    },
    {
      "cell_type": "code",
      "source": [
        "number1"
      ],
      "metadata": {
        "colab": {
          "base_uri": "https://localhost:8080/"
        },
        "id": "_geCd2lKzHFB",
        "outputId": "3fb15e9c-07db-478a-c4f7-d9284d590429"
      },
      "id": "_geCd2lKzHFB",
      "execution_count": null,
      "outputs": [
        {
          "output_type": "execute_result",
          "data": {
            "text/plain": [
              "3"
            ]
          },
          "metadata": {},
          "execution_count": 50
        }
      ]
    },
    {
      "cell_type": "code",
      "source": [
        "outcomes = {\n",
        "\"Rock\": {\"Rock\": \"draw\", \"Paper\": \"loss\", \"Scissors\": \"win\"},\n",
        "\"Paper\":{\"Rock\": \"win\", \"Paper\": \"draw\", \"Scissors\": \"loss\"},\n",
        "\"Scissors\": {\"Rock\": \"loss\", \"Paper\": \"win\", \"Scissors\": \"draw\"}\n",
        "\n",
        "}\n",
        "\n",
        "outcomes.get(\"Scissors\", \"Paper\")"
      ],
      "metadata": {
        "colab": {
          "base_uri": "https://localhost:8080/"
        },
        "id": "lKLII43d0bBl",
        "outputId": "06adcd0e-8f44-4349-f1a7-926be78a20c8"
      },
      "id": "lKLII43d0bBl",
      "execution_count": null,
      "outputs": [
        {
          "output_type": "execute_result",
          "data": {
            "text/plain": [
              "{'Rock': 'loss', 'Paper': 'win', 'Scissors': 'draw'}"
            ]
          },
          "metadata": {},
          "execution_count": 55
        }
      ]
    },
    {
      "cell_type": "code",
      "source": [
        "test_dict = {'Gfg' : {'is' : {'never' : 'worst'}}}\n",
        "\t\n",
        "# printing original dictionary\n",
        "print(\"The original dictionary is : \" + str(test_dict))\n",
        "\t\n",
        "# using nested get()\n",
        "# Safe access nested dictionary key\n",
        "res = test_dict.get('Gfg', {}).get('is', {}).get('never')\n",
        "\t\n",
        "# printing result\n",
        "print(\"The nested safely accessed value is : \" + str(res))\n"
      ],
      "metadata": {
        "colab": {
          "base_uri": "https://localhost:8080/"
        },
        "id": "GIzz6Yxy1SCP",
        "outputId": "09363f4d-806e-43d9-8195-72da2418a01e"
      },
      "id": "GIzz6Yxy1SCP",
      "execution_count": null,
      "outputs": [
        {
          "output_type": "stream",
          "name": "stdout",
          "text": [
            "The original dictionary is : {'Gfg': {'is': {'never': 'worst'}}}\n",
            "The nested safely accessed value is : worst\n"
          ]
        }
      ]
    },
    {
      "cell_type": "code",
      "source": [
        "game_on = \"y\"\n",
        "\n",
        "win_or_loss = {\n",
        "\"Rock\": {\"Rock\": \"draw\", \"Paper\": \"loss\", \"Scissors\": \"win\"},\n",
        "\"Paper\":{\"Rock\": \"win\", \"Paper\": \"draw\", \"Scissors\": \"loss\"},\n",
        "\"Scissors\": {\"Rock\": \"loss\", \"Paper\": \"win\", \"Scissors\": \"draw\"}\n",
        "}\n",
        "\n",
        "while game_on == 'y':\n",
        "\n",
        "  p1 = input('Player 1, please enter one of three options: \"Rock\", \"Paper\", or \"Scissors\": ')\n",
        "  print()\n",
        "\n",
        "  p2 = input('Player 2, please enter one of three options: \"Rock\", \"Paper\", or \"Scissors\": ')\n",
        "  print()\n",
        "\n",
        "  final_winner = win_or_loss.get(p1, {}).get(p2)\n",
        "  print(final_winner)\n",
        "\n",
        "  game_on = input('Type \"y\" to play this amazing game again: ')\n",
        "  print()"
      ],
      "metadata": {
        "id": "BInVvaez3cvC"
      },
      "id": "BInVvaez3cvC",
      "execution_count": null,
      "outputs": []
    },
    {
      "cell_type": "code",
      "source": [
        "again = \"y\"\n",
        "\n",
        "outcomes = {\n",
        "\"Rock\": {\"Rock\": \"draw\", \"Paper\": \"loss\", \"Scissors\": \"win\"},\n",
        "\"Paper\":{\"Rock\": \"win\", \"Paper\": \"draw\", \"Scissors\": \"loss\"},\n",
        "\"Scissors\": {\"Rock\": \"loss\", \"Paper\": \"win\", \"Scissors\": \"draw\"}\n",
        "}\n",
        "\n",
        "while again == 'y':\n",
        "\n",
        "  p1 = input(\"Player 1 --> Rock, Paper, or Scissors? \")\n",
        "  print()\n",
        "\n",
        "  p2 = input(\"Player 2 --> Rock, Paper, or Scissors? \")\n",
        "  print()\n",
        "\n",
        "  final_winner = outcomes.get(p1, {}).get(p2)\n",
        "  print(final_winner)\n",
        "\n",
        "  again = input(\"Type y to play again, anything else to stop: \")\n",
        "  print()"
      ],
      "metadata": {
        "colab": {
          "base_uri": "https://localhost:8080/",
          "height": 727
        },
        "id": "MQG7ZNFWzKjP",
        "outputId": "6a3297e9-79be-4502-f323-211731d49f10"
      },
      "id": "MQG7ZNFWzKjP",
      "execution_count": null,
      "outputs": [
        {
          "output_type": "stream",
          "name": "stdout",
          "text": [
            "Player 1 --> Rock, Paper, or Scissors? Scissors\n",
            "\n",
            "Player 2 --> Rock, Paper, or Scissors? ROck\n",
            "\n",
            "None\n",
            "Type y to play again, anything else to stop: y\n",
            "\n",
            "Player 1 --> Rock, Paper, or Scissors? Rock\n",
            "\n",
            "Player 2 --> Rock, Paper, or Scissors? Paper\n",
            "\n",
            "loss\n",
            "Type y to play again, anything else to stop: y\n",
            "\n",
            "Player 1 --> Rock, Paper, or Scissors? Scissors\n",
            "\n",
            "Player 2 --> Rock, Paper, or Scissors? Paper\n",
            "\n",
            "win\n"
          ]
        },
        {
          "output_type": "error",
          "ename": "KeyboardInterrupt",
          "evalue": "ignored",
          "traceback": [
            "\u001b[0;31m---------------------------------------------------------------------------\u001b[0m",
            "\u001b[0;31mKeyboardInterrupt\u001b[0m                         Traceback (most recent call last)",
            "\u001b[0;32m<ipython-input-61-5857646d5d34>\u001b[0m in \u001b[0;36m<module>\u001b[0;34m\u001b[0m\n\u001b[1;32m     18\u001b[0m   \u001b[0mprint\u001b[0m\u001b[0;34m(\u001b[0m\u001b[0mfinal_winner\u001b[0m\u001b[0;34m)\u001b[0m\u001b[0;34m\u001b[0m\u001b[0;34m\u001b[0m\u001b[0m\n\u001b[1;32m     19\u001b[0m \u001b[0;34m\u001b[0m\u001b[0m\n\u001b[0;32m---> 20\u001b[0;31m   \u001b[0magain\u001b[0m \u001b[0;34m=\u001b[0m \u001b[0minput\u001b[0m\u001b[0;34m(\u001b[0m\u001b[0;34m\"Type y to play again, anything else to stop: \"\u001b[0m\u001b[0;34m)\u001b[0m\u001b[0;34m\u001b[0m\u001b[0;34m\u001b[0m\u001b[0m\n\u001b[0m\u001b[1;32m     21\u001b[0m   \u001b[0mprint\u001b[0m\u001b[0;34m(\u001b[0m\u001b[0;34m)\u001b[0m\u001b[0;34m\u001b[0m\u001b[0;34m\u001b[0m\u001b[0m\n",
            "\u001b[0;32m/usr/local/lib/python3.7/dist-packages/ipykernel/kernelbase.py\u001b[0m in \u001b[0;36mraw_input\u001b[0;34m(self, prompt)\u001b[0m\n\u001b[1;32m    861\u001b[0m             \u001b[0mself\u001b[0m\u001b[0;34m.\u001b[0m\u001b[0m_parent_ident\u001b[0m\u001b[0;34m,\u001b[0m\u001b[0;34m\u001b[0m\u001b[0;34m\u001b[0m\u001b[0m\n\u001b[1;32m    862\u001b[0m             \u001b[0mself\u001b[0m\u001b[0;34m.\u001b[0m\u001b[0m_parent_header\u001b[0m\u001b[0;34m,\u001b[0m\u001b[0;34m\u001b[0m\u001b[0;34m\u001b[0m\u001b[0m\n\u001b[0;32m--> 863\u001b[0;31m             \u001b[0mpassword\u001b[0m\u001b[0;34m=\u001b[0m\u001b[0;32mFalse\u001b[0m\u001b[0;34m,\u001b[0m\u001b[0;34m\u001b[0m\u001b[0;34m\u001b[0m\u001b[0m\n\u001b[0m\u001b[1;32m    864\u001b[0m         )\n\u001b[1;32m    865\u001b[0m \u001b[0;34m\u001b[0m\u001b[0m\n",
            "\u001b[0;32m/usr/local/lib/python3.7/dist-packages/ipykernel/kernelbase.py\u001b[0m in \u001b[0;36m_input_request\u001b[0;34m(self, prompt, ident, parent, password)\u001b[0m\n\u001b[1;32m    902\u001b[0m             \u001b[0;32mexcept\u001b[0m \u001b[0mKeyboardInterrupt\u001b[0m\u001b[0;34m:\u001b[0m\u001b[0;34m\u001b[0m\u001b[0;34m\u001b[0m\u001b[0m\n\u001b[1;32m    903\u001b[0m                 \u001b[0;31m# re-raise KeyboardInterrupt, to truncate traceback\u001b[0m\u001b[0;34m\u001b[0m\u001b[0;34m\u001b[0m\u001b[0;34m\u001b[0m\u001b[0m\n\u001b[0;32m--> 904\u001b[0;31m                 \u001b[0;32mraise\u001b[0m \u001b[0mKeyboardInterrupt\u001b[0m\u001b[0;34m(\u001b[0m\u001b[0;34m\"Interrupted by user\"\u001b[0m\u001b[0;34m)\u001b[0m \u001b[0;32mfrom\u001b[0m \u001b[0;32mNone\u001b[0m\u001b[0;34m\u001b[0m\u001b[0;34m\u001b[0m\u001b[0m\n\u001b[0m\u001b[1;32m    905\u001b[0m             \u001b[0;32mexcept\u001b[0m \u001b[0mException\u001b[0m \u001b[0;32mas\u001b[0m \u001b[0me\u001b[0m\u001b[0;34m:\u001b[0m\u001b[0;34m\u001b[0m\u001b[0;34m\u001b[0m\u001b[0m\n\u001b[1;32m    906\u001b[0m                 \u001b[0mself\u001b[0m\u001b[0;34m.\u001b[0m\u001b[0mlog\u001b[0m\u001b[0;34m.\u001b[0m\u001b[0mwarning\u001b[0m\u001b[0;34m(\u001b[0m\u001b[0;34m\"Invalid Message:\"\u001b[0m\u001b[0;34m,\u001b[0m \u001b[0mexc_info\u001b[0m\u001b[0;34m=\u001b[0m\u001b[0;32mTrue\u001b[0m\u001b[0;34m)\u001b[0m\u001b[0;34m\u001b[0m\u001b[0;34m\u001b[0m\u001b[0m\n",
            "\u001b[0;31mKeyboardInterrupt\u001b[0m: Interrupted by user"
          ]
        }
      ]
    },
    {
      "cell_type": "code",
      "source": [
        "import random\n",
        "\n",
        "def guess_the_number():\n",
        "  q_num = input(\"Guess a number between 1 and 10: \")\n",
        "  random_number = random.randint(0,3)\n",
        "  if q_num < random_number:\n",
        "    print(\"Too low\")"
      ],
      "metadata": {
        "id": "GX9AZxurhfsc"
      },
      "id": "GX9AZxurhfsc",
      "execution_count": null,
      "outputs": []
    },
    {
      "cell_type": "code",
      "source": [
        "import random as rm\n",
        "# Guess a random number between the bounds given (note that the randint function is inclusive)\n",
        "player_interest = \"y\"\n",
        "exit_game = \"exit\"\n",
        "\n",
        "\n",
        "def fun_guessing_game(play):\n",
        "    while play != \"exit\":\n",
        "        num_times_won = 0\n",
        "        num = input(\"Guess the randomly generated number between 1 and 9 (inclusive): \")\n",
        "        if int(num) == rm.randint(1,3):\n",
        "          num_times_won += 1\n",
        "          play = input('You got it! Type \"play\" if you want to play again or type \"exit\" to quit: ')\n",
        "        elif play == \"exit\":\n",
        "          print(num_times_won)\n",
        "          continue\n",
        "        else:\n",
        "          if int(num) > random_number:\n",
        "            print(\"Too high, try again\")\n",
        "          else:\n",
        "            #For the only remaining case: int(num) < random_number\n",
        "            print(\"Too low, try again\")\n"
      ],
      "metadata": {
        "id": "sEQ1lr0Wzo1r"
      },
      "id": "sEQ1lr0Wzo1r",
      "execution_count": null,
      "outputs": []
    },
    {
      "cell_type": "code",
      "source": [
        "fun_guessing_game(\"play the game!\")"
      ],
      "metadata": {
        "colab": {
          "base_uri": "https://localhost:8080/",
          "height": 740
        },
        "id": "PyuaaNGti-8U",
        "outputId": "1ec936e0-59f5-4f0a-dce7-61e9af08e882"
      },
      "id": "PyuaaNGti-8U",
      "execution_count": null,
      "outputs": [
        {
          "name": "stdout",
          "output_type": "stream",
          "text": [
            "Guess the randomly generated number between 1 and 9 (inclusive): 2\n",
            "Too low, try again\n",
            "Guess the randomly generated number between 1 and 9 (inclusive): 1\n",
            "You got it! Type \"play\" if you want to play again or type \"exit\" to quit: play\n",
            "Guess the randomly generated number between 1 and 9 (inclusive): 3\n",
            "Too high, try again\n",
            "Guess the randomly generated number between 1 and 9 (inclusive): 2\n",
            "You got it! Type \"play\" if you want to play again or type \"exit\" to quit: play\n",
            "Guess the randomly generated number between 1 and 9 (inclusive): 2\n",
            "Too low, try again\n",
            "Guess the randomly generated number between 1 and 9 (inclusive): 1\n",
            "You got it! Type \"play\" if you want to play again or type \"exit\" to quit: play\n",
            "Guess the randomly generated number between 1 and 9 (inclusive): 3\n",
            "You got it! Type \"play\" if you want to play again or type \"exit\" to quit: play\n",
            "Guess the randomly generated number between 1 and 9 (inclusive): 1\n",
            "You got it! Type \"play\" if you want to play again or type \"exit\" to quit: play\n",
            "Guess the randomly generated number between 1 and 9 (inclusive): 3\n",
            "You got it! Type \"play\" if you want to play again or type \"exit\" to quit: play\n",
            "Guess the randomly generated number between 1 and 9 (inclusive): 3\n",
            "You got it! Type \"play\" if you want to play again or type \"exit\" to quit: play\n",
            "Guess the randomly generated number between 1 and 9 (inclusive): 3\n",
            "Too high, try again\n",
            "Guess the randomly generated number between 1 and 9 (inclusive): exit\n"
          ]
        },
        {
          "output_type": "error",
          "ename": "ValueError",
          "evalue": "ignored",
          "traceback": [
            "\u001b[0;31m---------------------------------------------------------------------------\u001b[0m",
            "\u001b[0;31mValueError\u001b[0m                                Traceback (most recent call last)",
            "\u001b[0;32m<ipython-input-17-8d13025d2816>\u001b[0m in \u001b[0;36m<module>\u001b[0;34m\u001b[0m\n\u001b[0;32m----> 1\u001b[0;31m \u001b[0mfun_guessing_game\u001b[0m\u001b[0;34m(\u001b[0m\u001b[0;34m\"play the game!\"\u001b[0m\u001b[0;34m)\u001b[0m\u001b[0;34m\u001b[0m\u001b[0;34m\u001b[0m\u001b[0m\n\u001b[0m",
            "\u001b[0;32m<ipython-input-16-8899accda699>\u001b[0m in \u001b[0;36mfun_guessing_game\u001b[0;34m(play)\u001b[0m\n\u001b[1;32m      9\u001b[0m         \u001b[0mnum_times_won\u001b[0m \u001b[0;34m=\u001b[0m \u001b[0;36m0\u001b[0m\u001b[0;34m\u001b[0m\u001b[0;34m\u001b[0m\u001b[0m\n\u001b[1;32m     10\u001b[0m         \u001b[0mnum\u001b[0m \u001b[0;34m=\u001b[0m \u001b[0minput\u001b[0m\u001b[0;34m(\u001b[0m\u001b[0;34m\"Guess the randomly generated number between 1 and 9 (inclusive): \"\u001b[0m\u001b[0;34m)\u001b[0m\u001b[0;34m\u001b[0m\u001b[0;34m\u001b[0m\u001b[0m\n\u001b[0;32m---> 11\u001b[0;31m         \u001b[0;32mif\u001b[0m \u001b[0mint\u001b[0m\u001b[0;34m(\u001b[0m\u001b[0mnum\u001b[0m\u001b[0;34m)\u001b[0m \u001b[0;34m==\u001b[0m \u001b[0mrm\u001b[0m\u001b[0;34m.\u001b[0m\u001b[0mrandint\u001b[0m\u001b[0;34m(\u001b[0m\u001b[0;36m1\u001b[0m\u001b[0;34m,\u001b[0m\u001b[0;36m3\u001b[0m\u001b[0;34m)\u001b[0m\u001b[0;34m:\u001b[0m\u001b[0;34m\u001b[0m\u001b[0;34m\u001b[0m\u001b[0m\n\u001b[0m\u001b[1;32m     12\u001b[0m           \u001b[0mnum_times_won\u001b[0m \u001b[0;34m+=\u001b[0m \u001b[0;36m1\u001b[0m\u001b[0;34m\u001b[0m\u001b[0;34m\u001b[0m\u001b[0m\n\u001b[1;32m     13\u001b[0m           \u001b[0mplay\u001b[0m \u001b[0;34m=\u001b[0m \u001b[0minput\u001b[0m\u001b[0;34m(\u001b[0m\u001b[0;34m'You got it! Type \"play\" if you want to play again or type \"exit\" to quit: '\u001b[0m\u001b[0;34m)\u001b[0m\u001b[0;34m\u001b[0m\u001b[0;34m\u001b[0m\u001b[0m\n",
            "\u001b[0;31mValueError\u001b[0m: invalid literal for int() with base 10: 'exit'"
          ]
        }
      ]
    },
    {
      "cell_type": "code",
      "source": [
        "2my_tuple = (0, 1, 2, 3, 4)\n",
        "\n",
        "for number in range(9999):\n",
        "    if number not in my_tuple:\n",
        "        print(f'Break! {number} is not in {my_tuple}')\n",
        "        break\n",
        "\n",
        "    try:\n",
        "        print(2 / number)\n",
        "    except ZeroDivisionError:\n",
        "        print('Zero Division Error!')\n",
        "    finally:\n",
        "        print(f'Current number in the loop is - {number}')\n",
        "\n",
        "print('We are out of the loop now.')\n"
      ],
      "metadata": {
        "id": "k1wEJV7G15sq"
      },
      "id": "k1wEJV7G15sq",
      "execution_count": null,
      "outputs": []
    },
    {
      "cell_type": "code",
      "source": [
        "    if (player1_choice.lower() or player2_choice.lower()) not in [\"rock\",\"paper\",\"scissors\"] or (player1_choice.lower() == player2_choice.lower()):\n",
        "        raise ValueError #Back to input for valid entry\n",
        "    else:\n",
        "        p1_level = 1\n",
        "        p2_level = 1\n",
        "        if player1_choice.lower() == \"rock\":\n",
        "          p1_level = 3\n",
        "        elif player1_choice.lower() == \"scissors\":\n",
        "          p1_level = 2\n",
        "        elif player1_choice.lower() == \"paper\":\n",
        "          p1_level = 1\n",
        "        elif player2_choice.lower() == \"rock\":\n",
        "          p2_level = 3\n",
        "        elif player2_choice.lower() == \"scissors\":\n",
        "          p2_level = 2\n",
        "        else:\n",
        "          player2_choice.lower() == \"paper\"\n",
        "          p2_level = 1\n",
        "        if p1_level > p2_level:\n",
        "          print(\"Player 1 won!\")\n",
        "        else:\n",
        "          print(\"Player 2 won!\")\n",
        "    break\n",
        "  except ValueError:\n",
        "    print('Players 1 and 2, please enter one of three options: \"Rock\", \"Paper\", or \""
      ],
      "metadata": {
        "id": "iF-FjWBix2J3"
      },
      "id": "iF-FjWBix2J3",
      "execution_count": null,
      "outputs": []
    },
    {
      "cell_type": "code",
      "source": [
        "list_of_nums = [1, 4, 9, 16, 25, 36, 49, 64, 81, 100]\n",
        "even_list = [a for a in list_of_nums if a % 2 == 0]\n",
        "print(even_list)"
      ],
      "metadata": {
        "colab": {
          "base_uri": "https://localhost:8080/"
        },
        "id": "FD_YYLijTT2L",
        "outputId": "54985c35-f04c-4972-ce2b-76eedc64c189"
      },
      "id": "FD_YYLijTT2L",
      "execution_count": null,
      "outputs": [
        {
          "output_type": "stream",
          "name": "stdout",
          "text": [
            "[4, 16, 36, 64, 100]\n"
          ]
        }
      ]
    },
    {
      "cell_type": "code",
      "source": [
        "a = [1, 1, 2, 3, 5, 8, 13, 21, 34, 55, 89]\n",
        "b = [1, 2, 3, 4, 5, 6, 7, 8, 9, 10, 11, 12, 13]\n",
        "one_liner = ([i for i in a for j in b if i==j])\n",
        "one_liner"
      ],
      "metadata": {
        "colab": {
          "base_uri": "https://localhost:8080/"
        },
        "id": "MSOxmHTJVj5Y",
        "outputId": "e18e6474-9921-4426-ec3c-98f4616abea2"
      },
      "id": "MSOxmHTJVj5Y",
      "execution_count": null,
      "outputs": [
        {
          "output_type": "execute_result",
          "data": {
            "text/plain": [
              "[1, 1, 2, 3, 5, 8, 13]"
            ]
          },
          "metadata": {},
          "execution_count": 20
        }
      ]
    },
    {
      "cell_type": "code",
      "source": [
        "# Testing out the supposed syntax update for python that includes := for variable assignment\n",
        "print(set([x := c for c in a for d in b if c==d]))"
      ],
      "metadata": {
        "colab": {
          "base_uri": "https://localhost:8080/",
          "height": 133
        },
        "id": "pUbtBKKUXq46",
        "outputId": "62ab33e1-e0dc-4a84-9694-b7c14bee7984"
      },
      "id": "pUbtBKKUXq46",
      "execution_count": null,
      "outputs": [
        {
          "output_type": "error",
          "ename": "SyntaxError",
          "evalue": "ignored",
          "traceback": [
            "\u001b[0;36m  File \u001b[0;32m\"<ipython-input-12-6dd1272e37c5>\"\u001b[0;36m, line \u001b[0;32m3\u001b[0m\n\u001b[0;31m    print(set([x := c for c in a for d in b if c==d]))\u001b[0m\n\u001b[0m                 ^\u001b[0m\n\u001b[0;31mSyntaxError\u001b[0m\u001b[0;31m:\u001b[0m invalid syntax\n"
          ]
        }
      ]
    },
    {
      "cell_type": "code",
      "source": [
        "!python --version"
      ],
      "metadata": {
        "colab": {
          "base_uri": "https://localhost:8080/"
        },
        "id": "zHktF5Z6YDzZ",
        "outputId": "328bf578-3d19-4614-d163-84b47c6423a2"
      },
      "id": "zHktF5Z6YDzZ",
      "execution_count": null,
      "outputs": [
        {
          "output_type": "stream",
          "name": "stdout",
          "text": [
            "Python 3.7.15\n"
          ]
        }
      ]
    },
    {
      "cell_type": "code",
      "source": [
        "a = [1, 1, 2, 3, 5, 8, 13, 21, 34, 55, 89]\n",
        "b = [1, 2, 3, 4, 5, 6, 7, 8, 9, 10, 11, 12, 13]\n",
        "\n",
        "common = [i for i in a for x in b if i == x]\n",
        "print(common)"
      ],
      "metadata": {
        "colab": {
          "base_uri": "https://localhost:8080/"
        },
        "id": "fuqDsDjzYMCW",
        "outputId": "76d0227f-c41c-4f4d-a958-b848a83f5ed0"
      },
      "id": "fuqDsDjzYMCW",
      "execution_count": null,
      "outputs": [
        {
          "output_type": "stream",
          "name": "stdout",
          "text": [
            "[1, 1, 2, 3, 5, 8, 13]\n"
          ]
        }
      ]
    },
    {
      "cell_type": "code",
      "source": [
        "a = [1, 1, 2, 3, 5, 8, 13, 21, 34, 55, 89]\n",
        "b = [1, 2, 3, 4, 5, 6, 7, 8, 9, 10, 11, 12, 13]\n",
        "\n",
        "common = [i for i in set(a) if i in b] \n",
        "print(common)\n",
        "\n",
        "results = []\n",
        "\n",
        "def check_sims(var_list):\n",
        "  for i in var_list:\n",
        "    if i not in results:\n",
        "      results.append(i)\n",
        "check_sims(common)\n",
        "print(results == common)\n",
        "\n"
      ],
      "metadata": {
        "colab": {
          "base_uri": "https://localhost:8080/"
        },
        "id": "C6z2E6g-aBLm",
        "outputId": "20617392-4a2a-4938-e57b-b963736ec0de"
      },
      "id": "C6z2E6g-aBLm",
      "execution_count": null,
      "outputs": [
        {
          "output_type": "stream",
          "name": "stdout",
          "text": [
            "[1, 2, 3, 5, 8, 13]\n",
            "True\n"
          ]
        }
      ]
    },
    {
      "cell_type": "code",
      "source": [
        "common == results"
      ],
      "metadata": {
        "colab": {
          "base_uri": "https://localhost:8080/"
        },
        "id": "OH0z_eMAbkrM",
        "outputId": "fa6ef638-839b-45d3-8529-e1b0cf768570"
      },
      "id": "OH0z_eMAbkrM",
      "execution_count": null,
      "outputs": [
        {
          "output_type": "execute_result",
          "data": {
            "text/plain": [
              "True"
            ]
          },
          "metadata": {},
          "execution_count": 44
        }
      ]
    },
    {
      "cell_type": "code",
      "source": [
        "random.sample?"
      ],
      "metadata": {
        "id": "XsguZYvGZOfc"
      },
      "id": "XsguZYvGZOfc",
      "execution_count": null,
      "outputs": []
    },
    {
      "cell_type": "code",
      "source": [
        "giant_sample = random.sample(range(10000000), 500)\n",
        "print(giant_sample)\n",
        "print(len(giant_sample))"
      ],
      "metadata": {
        "colab": {
          "base_uri": "https://localhost:8080/"
        },
        "id": "ql6WQswNZYh-",
        "outputId": "c2616f9c-ba65-42d3-b2fc-da857d80c97f"
      },
      "id": "ql6WQswNZYh-",
      "execution_count": null,
      "outputs": [
        {
          "output_type": "stream",
          "name": "stdout",
          "text": [
            "[3160214, 4466424, 8485969, 9071358, 1625456, 2423649, 8235436, 1729086, 31192, 5331239, 7934053, 1614586, 2343721, 1499835, 3359895, 2007205, 8103008, 5454538, 2772867, 9827778, 2598044, 5144275, 1286003, 4899759, 8052950, 1227934, 7586933, 4590791, 9937318, 6505240, 2410007, 1630209, 2202549, 5386581, 9314200, 9964036, 8911060, 8251968, 395415, 6753294, 9316552, 4185639, 6812835, 4522481, 663958, 790756, 9789678, 1277237, 2296372, 3646585, 7885753, 9770449, 2849051, 9989052, 8311024, 1495340, 8192420, 1919113, 9367, 9473503, 4329289, 1923623, 3523539, 7976959, 2014390, 2957502, 3426422, 4614932, 4853029, 982370, 8565656, 5113507, 9738869, 1174763, 2182378, 2194990, 2890986, 7164411, 9834916, 654842, 7832785, 2483038, 38758, 1093861, 6699175, 9014154, 1637499, 6804427, 5840417, 9395157, 2728707, 179992, 6073295, 3481064, 6541407, 3460929, 3332535, 2073105, 1518301, 7672896, 7459000, 4687067, 3021361, 9204141, 1655232, 5299465, 1390735, 247611, 7106430, 3107343, 6509321, 8748271, 1150547, 1896310, 5435402, 3529876, 3172152, 7858040, 4433803, 5303368, 3546881, 1401161, 9239208, 7641379, 943682, 9761478, 7607710, 2007522, 3983909, 8145023, 3131072, 5036166, 299107, 5586684, 5461057, 4824787, 9110271, 5386325, 9534176, 9884364, 4652070, 3161505, 9282898, 4432208, 4675557, 371755, 485561, 7421215, 7069828, 7669709, 4763886, 7884388, 986487, 7053690, 3903561, 6234578, 6057855, 690704, 758783, 9947905, 1365966, 1531007, 2358519, 7547377, 9037143, 6616349, 1778766, 3232759, 6478241, 9681506, 8104390, 5224169, 728833, 185737, 1986757, 8542833, 1129636, 9555071, 3371497, 4765578, 3537719, 130295, 2277798, 6184961, 4152930, 5559826, 5092183, 3182402, 5671287, 881802, 2330880, 1350462, 668670, 6117862, 4374116, 3014047, 1102920, 5620736, 5372661, 1016769, 5424, 1946819, 9036743, 2053976, 1402348, 3870449, 5788004, 2051731, 6151832, 4968521, 1376270, 2354366, 3095279, 7486404, 7839767, 559632, 9991714, 631198, 5145653, 215082, 8811545, 8707406, 7011983, 1987601, 7839938, 2042696, 2348407, 7854465, 5575690, 5864788, 5560505, 9862623, 3182610, 3754138, 2248790, 834142, 8180708, 6755050, 8607932, 4172948, 8983295, 952837, 6812553, 385807, 1215575, 2841454, 1351951, 9179990, 3721894, 4099283, 6825090, 2031814, 5260325, 7665346, 4273489, 1446908, 6204937, 2503490, 7504563, 7761962, 7742206, 3155701, 9588105, 3680984, 613085, 4202730, 653557, 8336690, 8476822, 2277384, 8498126, 9988470, 8199569, 8381398, 646230, 9316666, 5169435, 6761619, 7702248, 6080771, 9153717, 1212346, 3317384, 9832298, 2293806, 3393714, 3282333, 4914608, 9317362, 5856725, 3301701, 7069868, 9974884, 6584781, 9705880, 7016580, 2553834, 6078456, 217487, 3009544, 9230365, 3355072, 7479667, 9564679, 2350245, 8307419, 9671409, 3176127, 1732303, 6358374, 892327, 9047209, 7912879, 1221375, 3858107, 6090719, 222472, 6213063, 8741832, 5645708, 4629386, 1128207, 4684026, 2166913, 5556991, 8575076, 3911923, 3058301, 5673872, 9172200, 1868051, 7898518, 1225037, 6362104, 5615141, 7568687, 761518, 9022102, 6444694, 704907, 9455394, 4915132, 2964621, 903929, 9172104, 8752146, 8858987, 4241104, 2903924, 3056788, 4702188, 840285, 6405838, 1753637, 9405412, 9736213, 1169192, 5891430, 187053, 1499723, 7711897, 4142521, 6490433, 6241959, 8511335, 2959612, 486115, 6454354, 1547325, 7070541, 9929358, 6631695, 5378440, 7002808, 7763673, 9492678, 1705918, 7695648, 223300, 6083837, 5592028, 9029748, 1937109, 4708816, 8063936, 7856641, 5281125, 7270706, 3005104, 2337495, 8914468, 172744, 5643095, 4411565, 2735646, 7235466, 854103, 2609457, 3036619, 1812971, 1990723, 5520570, 8375181, 2424728, 1473695, 4500792, 8004684, 108135, 433543, 1679550, 1022339, 4777564, 4833846, 312443, 837577, 6508417, 1045021, 1171800, 1418128, 4997241, 3388134, 9402879, 8371543, 7050801, 6342394, 7639321, 6102192, 4509763, 4302103, 7888492, 1506813, 4391254, 9152670, 1310858, 8359939, 8540100, 8563188, 8247831, 8365731, 1842496, 6083139, 5639277, 5769178, 6975901, 9358957, 3044290, 6777063, 7610891, 1517006, 4869055, 9617311, 9055709, 8027125, 2711073, 5992911, 7504541, 8038304, 5275260, 5070457, 4163883, 6145753, 8507519, 7929726, 4665511, 8771560, 519908, 232653, 8849496, 2447496, 7227904, 2704188, 6443333, 7036081, 2016198, 3437704, 7469789, 7411840, 4563200, 2210631, 8783782, 4265256, 9578644, 9360070, 4580973, 4460307, 3666528, 9828433, 1512957, 4320702, 9384489, 2707651, 1502283, 7829704, 4238851, 6448676, 4985913, 7759193, 9161662, 6691407, 4466912]\n",
            "500\n"
          ]
        }
      ]
    },
    {
      "cell_type": "code",
      "source": [
        "import random\n",
        "\n",
        "list1 = random.sample(range(1,100), 50)\n",
        "list2 = random.sample(range(1,100), 30)\n",
        "\n",
        "list_of_sim_nums = [i for i in list1 for j in list2 if i ==j]\n",
        "print(list_of_sim_nums)\n"
      ],
      "metadata": {
        "colab": {
          "base_uri": "https://localhost:8080/"
        },
        "id": "i89jI8KSYh7f",
        "outputId": "a2861299-d009-4276-85bc-76a70d7372ec"
      },
      "id": "i89jI8KSYh7f",
      "execution_count": null,
      "outputs": [
        {
          "output_type": "stream",
          "name": "stdout",
          "text": [
            "[5, 36, 50, 6, 91, 70, 54, 25, 78, 19, 99, 65, 87, 93, 52]\n"
          ]
        }
      ]
    },
    {
      "cell_type": "code",
      "source": [
        "# without walrus\n",
        "n = 30\n",
        "if n > 10:\n",
        "    print(f\"{n} is greater than 10\")\n",
        "\n",
        "# with walrus\n",
        "if (n = 30) > 10:\n",
        "    print(f\"{n} is greater than 10\""
      ],
      "metadata": {
        "colab": {
          "base_uri": "https://localhost:8080/",
          "height": 133
        },
        "id": "kvKXh4G_X_Qb",
        "outputId": "b05e51fe-1050-4761-a0cc-4d5501948950"
      },
      "id": "kvKXh4G_X_Qb",
      "execution_count": null,
      "outputs": [
        {
          "output_type": "error",
          "ename": "SyntaxError",
          "evalue": "ignored",
          "traceback": [
            "\u001b[0;36m  File \u001b[0;32m\"<ipython-input-16-699257c31577>\"\u001b[0;36m, line \u001b[0;32m7\u001b[0m\n\u001b[0;31m    if (n = 30) > 10:\u001b[0m\n\u001b[0m          ^\u001b[0m\n\u001b[0;31mSyntaxError\u001b[0m\u001b[0;31m:\u001b[0m invalid syntax\n"
          ]
        }
      ]
    },
    {
      "cell_type": "code",
      "source": [
        "new_var := 890"
      ],
      "metadata": {
        "colab": {
          "base_uri": "https://localhost:8080/",
          "height": 133
        },
        "id": "ycySLpE-Xsfs",
        "outputId": "1b0a47f3-bba5-41ae-b58a-ee0a0b279e9c"
      },
      "id": "ycySLpE-Xsfs",
      "execution_count": null,
      "outputs": [
        {
          "output_type": "error",
          "ename": "SyntaxError",
          "evalue": "ignored",
          "traceback": [
            "\u001b[0;36m  File \u001b[0;32m\"<ipython-input-14-03ba77f5e523>\"\u001b[0;36m, line \u001b[0;32m1\u001b[0m\n\u001b[0;31m    new_var := 890\u001b[0m\n\u001b[0m             ^\u001b[0m\n\u001b[0;31mSyntaxError\u001b[0m\u001b[0;31m:\u001b[0m invalid syntax\n"
          ]
        }
      ]
    },
    {
      "cell_type": "code",
      "source": [
        "a = [1, 1, 2, 3, 5, 8, 13, 21, 34, 55, 89]\n",
        "b = [1, 2, 3, 4, 5, 6, 7, 8, 9, 10, 11, 12, 13]\n",
        "print(set([x := c for c in a for d in b if c==d]))\n",
        "And for the random.\n",
        "import random\n",
        "a = random.sample(range(100),25)\n",
        "b = random.sample(range(69),19)\n",
        "print(set([x := c for c in a for d in b if c==d]))"
      ],
      "metadata": {
        "id": "ISez6-BDXQMZ"
      },
      "id": "ISez6-BDXQMZ",
      "execution_count": null,
      "outputs": []
    },
    {
      "cell_type": "code",
      "source": [
        "a = [1, 1, 2, 3, 5, 8, 13, 21, 34, 55, 89]\n",
        "b = [1, 2, 3, 4, 5, 6, 7, 8, 9, 10, 11, 12, 13]\n",
        "\n",
        "def list_similarity(list1, list2):\n",
        "  same_digits = []\n",
        "  for i in a:\n",
        "    if i in set(b):\n",
        "      same_digits.append(i)\n",
        "    else:\n",
        "      continue\n",
        "  return same_digits\n",
        "\n",
        "\n",
        "list_similarity(a,b)\n",
        "\n"
      ],
      "metadata": {
        "colab": {
          "base_uri": "https://localhost:8080/"
        },
        "id": "bx5DBY7eTiqs",
        "outputId": "211cb2a5-7bcc-407b-9ec1-d1d5abf574fd"
      },
      "id": "bx5DBY7eTiqs",
      "execution_count": null,
      "outputs": [
        {
          "output_type": "execute_result",
          "data": {
            "text/plain": [
              "[1, 1, 2, 3, 5, 8, 13]"
            ]
          },
          "metadata": {},
          "execution_count": 6
        }
      ]
    },
    {
      "cell_type": "code",
      "source": [
        "8 % list(range(1,10))\n",
        "\n",
        "range_ "
      ],
      "metadata": {
        "colab": {
          "base_uri": "https://localhost:8080/",
          "height": 169
        },
        "id": "Z4IfKSpxATEt",
        "outputId": "83f89d4d-255a-4950-a36a-44e2cdd8c03e"
      },
      "id": "Z4IfKSpxATEt",
      "execution_count": null,
      "outputs": [
        {
          "output_type": "error",
          "ename": "TypeError",
          "evalue": "ignored",
          "traceback": [
            "\u001b[0;31m---------------------------------------------------------------------------\u001b[0m",
            "\u001b[0;31mTypeError\u001b[0m                                 Traceback (most recent call last)",
            "\u001b[0;32m<ipython-input-1-587ca8a06508>\u001b[0m in \u001b[0;36m<module>\u001b[0;34m\u001b[0m\n\u001b[0;32m----> 1\u001b[0;31m \u001b[0;36m8\u001b[0m \u001b[0;34m%\u001b[0m \u001b[0mlist\u001b[0m\u001b[0;34m(\u001b[0m\u001b[0mrange\u001b[0m\u001b[0;34m(\u001b[0m\u001b[0;36m1\u001b[0m\u001b[0;34m,\u001b[0m\u001b[0;36m10\u001b[0m\u001b[0;34m)\u001b[0m\u001b[0;34m)\u001b[0m\u001b[0;34m\u001b[0m\u001b[0;34m\u001b[0m\u001b[0m\n\u001b[0m",
            "\u001b[0;31mTypeError\u001b[0m: unsupported operand type(s) for %: 'int' and 'list'"
          ]
        }
      ]
    },
    {
      "cell_type": "code",
      "source": [
        "list(range(1,10))"
      ],
      "metadata": {
        "colab": {
          "base_uri": "https://localhost:8080/"
        },
        "id": "voD7jKs7C70X",
        "outputId": "e988fd22-e356-400b-dff5-8800a93f252f"
      },
      "id": "voD7jKs7C70X",
      "execution_count": null,
      "outputs": [
        {
          "output_type": "execute_result",
          "data": {
            "text/plain": [
              "[1, 2, 3, 4, 5, 6, 7, 8, 9]"
            ]
          },
          "metadata": {},
          "execution_count": 19
        }
      ]
    },
    {
      "cell_type": "code",
      "source": [
        "range?"
      ],
      "metadata": {
        "id": "sOFkA0sfDAtz"
      },
      "id": "sOFkA0sfDAtz",
      "execution_count": null,
      "outputs": []
    },
    {
      "cell_type": "code",
      "source": [
        "import sys"
      ],
      "metadata": {
        "id": "5aRHI1nQFJVH"
      },
      "id": "5aRHI1nQFJVH",
      "execution_count": null,
      "outputs": []
    },
    {
      "cell_type": "code",
      "source": [
        "import sys\n",
        "\n",
        "\n",
        "\n",
        "def is_prime(num):\n",
        "  for i in list(range(2,num)):\n",
        "    if num % i != 0:\n",
        "      continue\n",
        "    elif num % i == 0:\n",
        "      print(\"Not a prime.\")\n",
        "    elif num == 0:\n",
        "      print(\"Not prime.\")\n",
        "    else:\n",
        "      print(\"Also not prime.\")\n",
        "  sys.exit(\"Found one! This is a prime.\")\n",
        "    \n"
      ],
      "metadata": {
        "id": "wIpnvbSRACfN"
      },
      "id": "wIpnvbSRACfN",
      "execution_count": null,
      "outputs": []
    },
    {
      "cell_type": "code",
      "source": [
        "is_prime(17)"
      ],
      "metadata": {
        "colab": {
          "base_uri": "https://localhost:8080/",
          "height": 171
        },
        "id": "N-5Rnoh3FLsl",
        "outputId": "6e3c4d9d-7e79-4b0d-ef45-0c0977d59029"
      },
      "id": "N-5Rnoh3FLsl",
      "execution_count": null,
      "outputs": [
        {
          "output_type": "error",
          "ename": "SystemExit",
          "evalue": "ignored",
          "traceback": [
            "An exception has occurred, use %tb to see the full traceback.\n",
            "\u001b[0;31mSystemExit\u001b[0m\u001b[0;31m:\u001b[0m Found one! This is a prime.\n"
          ]
        },
        {
          "output_type": "stream",
          "name": "stderr",
          "text": [
            "/usr/local/lib/python3.7/dist-packages/IPython/core/interactiveshell.py:3334: UserWarning: To exit: use 'exit', 'quit', or Ctrl-D.\n",
            "  warn(\"To exit: use 'exit', 'quit', or Ctrl-D.\", stacklevel=1)\n"
          ]
        }
      ]
    },
    {
      "cell_type": "code",
      "source": [
        "is_prime(88)"
      ],
      "metadata": {
        "colab": {
          "base_uri": "https://localhost:8080/"
        },
        "id": "WQFHYTK7Bprf",
        "outputId": "e47c1fc7-8402-44d2-cd51-43321648e901"
      },
      "id": "WQFHYTK7Bprf",
      "execution_count": null,
      "outputs": [
        {
          "output_type": "stream",
          "name": "stdout",
          "text": [
            "Prime.\n",
            "Prime.\n",
            "Prime.\n",
            "Prime.\n",
            "Prime.\n",
            "Prime.\n",
            "Prime.\n",
            "Prime.\n",
            "Prime.\n",
            "Prime.\n",
            "Prime.\n",
            "Prime.\n",
            "Prime.\n",
            "Prime.\n",
            "Prime.\n",
            "Prime.\n",
            "Prime.\n",
            "Prime.\n",
            "Prime.\n",
            "Prime.\n",
            "Prime.\n",
            "Prime.\n",
            "Prime.\n",
            "Prime.\n",
            "Prime.\n",
            "Prime.\n",
            "Prime.\n",
            "Prime.\n",
            "Prime.\n",
            "Prime.\n",
            "Prime.\n",
            "Prime.\n",
            "Prime.\n",
            "Prime.\n",
            "Prime.\n",
            "Prime.\n",
            "Prime.\n",
            "Prime.\n",
            "Prime.\n",
            "Prime.\n",
            "Prime.\n",
            "Prime.\n",
            "Prime.\n",
            "Prime.\n",
            "Prime.\n",
            "Prime.\n",
            "Prime.\n",
            "Prime.\n",
            "Prime.\n",
            "Prime.\n",
            "Prime.\n",
            "Prime.\n",
            "Prime.\n",
            "Prime.\n",
            "Prime.\n",
            "Prime.\n",
            "Prime.\n",
            "Prime.\n",
            "Prime.\n",
            "Prime.\n",
            "Prime.\n",
            "Prime.\n",
            "Prime.\n",
            "Prime.\n",
            "Prime.\n",
            "Prime.\n",
            "Prime.\n",
            "Prime.\n",
            "Prime.\n",
            "Prime.\n",
            "Prime.\n",
            "Prime.\n",
            "Prime.\n",
            "Prime.\n",
            "Prime.\n",
            "Prime.\n",
            "Prime.\n",
            "Prime.\n",
            "Prime.\n",
            "Prime.\n"
          ]
        }
      ]
    },
    {
      "cell_type": "code",
      "source": [],
      "metadata": {
        "colab": {
          "base_uri": "https://localhost:8080/"
        },
        "id": "blxpNWnlNmoD",
        "outputId": "cd0e5c5d-9e97-4905-9d54-90d038428cbd"
      },
      "id": "blxpNWnlNmoD",
      "execution_count": null,
      "outputs": [
        {
          "output_type": "stream",
          "name": "stdout",
          "text": [
            "[491, 375, 56, 369, 229, 468, 298, 102, 1, 180]\n"
          ]
        }
      ]
    },
    {
      "cell_type": "code",
      "source": [
        "import random as rm\n",
        "random_long_list = rm.sample(range(0,500), 10)\n",
        "print(random_long_list)\n",
        "def alpha_omega(input_list):\n",
        "  ao = []\n",
        "  ao.append(input_list[0])\n",
        "  ao.append(input_list[-1])\n",
        "  print(ao)\n",
        "alpha_omega(random_long_list)"
      ],
      "metadata": {
        "colab": {
          "base_uri": "https://localhost:8080/"
        },
        "id": "5pyEs47HBrDa",
        "outputId": "82a65a48-f6e3-4a7f-bd93-a9ef13480bfa"
      },
      "id": "5pyEs47HBrDa",
      "execution_count": null,
      "outputs": [
        {
          "output_type": "stream",
          "name": "stdout",
          "text": [
            "[471, 172, 240, 347, 205, 87, 64, 150, 302, 444]\n",
            "[471, 444]\n"
          ]
        }
      ]
    },
    {
      "cell_type": "code",
      "source": [
        "def fib_cal(query = \"How high would you like your Fibonacci sequence to go? \"):\n",
        "  fib_num = int(input(query))\n",
        "  i = 1\n",
        "  if fib_num == 0:\n",
        "    fib_seq = []\n",
        "  elif fib_num == 1:\n",
        "    fib_seq = [1]\n",
        "  elif fib_num == 2:\n",
        "    fib_seq = [1,1]\n",
        "  else:\n",
        "    fib_seq = [1,1]\n",
        "    while i < (fib_num - 1):\n",
        "      fib_seq.append(fib_seq[i] + fib_seq[i-1])\n",
        "      i += 1\n",
        "  return fib_seq\n",
        "print(fib_cal())\n",
        "\n",
        "\n",
        "\n"
      ],
      "metadata": {
        "colab": {
          "base_uri": "https://localhost:8080/"
        },
        "id": "HcBBMoUeOH2a",
        "outputId": "1204822e-ff23-4b68-b21a-d76b0a2345ea"
      },
      "id": "HcBBMoUeOH2a",
      "execution_count": null,
      "outputs": [
        {
          "output_type": "stream",
          "name": "stdout",
          "text": [
            "How high would you like your Fibonacci sequence to go? 5\n",
            "[1, 1, 2, 3, 5]\n"
          ]
        }
      ]
    },
    {
      "cell_type": "code",
      "source": [
        "random_long_list.remove(444)"
      ],
      "metadata": {
        "id": "P7dvHS1MYdE6"
      },
      "id": "P7dvHS1MYdE6",
      "execution_count": null,
      "outputs": []
    },
    {
      "cell_type": "code",
      "source": [
        "random_long_list"
      ],
      "metadata": {
        "colab": {
          "base_uri": "https://localhost:8080/"
        },
        "id": "HYxbuvXrYY9c",
        "outputId": "cab4a7be-07a1-4010-999f-3027edf127a3"
      },
      "id": "HYxbuvXrYY9c",
      "execution_count": null,
      "outputs": [
        {
          "output_type": "execute_result",
          "data": {
            "text/plain": [
              "[471, 172, 240, 347, 205, 87, 64, 150, 302]"
            ]
          },
          "metadata": {},
          "execution_count": 18
        }
      ]
    },
    {
      "cell_type": "code",
      "source": [
        "anums = rm.sample(range(1,500), 5)\n",
        "bnums = rm.sample(range(1,500), 5)\n",
        "anums.append(2)\n",
        "bnums.append(2)\n",
        "anums.append(7)\n",
        "bnums.append(7)\n",
        "\n",
        "def duplicates_removed(list1,list2):\n",
        "  dups = []\n",
        "  for i in list1:\n",
        "    for j in list2:\n",
        "      if i == j:\n",
        "        dups.append(i)\n",
        "        list1.remove(i)\n",
        "        list2.remove(j)\n",
        "  return dups\n"
      ],
      "metadata": {
        "id": "UXoXagNxOKO_"
      },
      "id": "UXoXagNxOKO_",
      "execution_count": null,
      "outputs": []
    },
    {
      "cell_type": "code",
      "source": [
        "duplicates_removed(anums, bnums)"
      ],
      "metadata": {
        "colab": {
          "base_uri": "https://localhost:8080/"
        },
        "id": "ZH1VnIVnYpsA",
        "outputId": "e717a74e-9e8a-4a83-af76-79b4853150ca"
      },
      "id": "ZH1VnIVnYpsA",
      "execution_count": null,
      "outputs": [
        {
          "output_type": "execute_result",
          "data": {
            "text/plain": [
              "[2]"
            ]
          },
          "metadata": {},
          "execution_count": 30
        }
      ]
    },
    {
      "cell_type": "code",
      "source": [
        "list1 = [1,2,3,4,5]\n",
        "list1 = list1[::-1]"
      ],
      "metadata": {
        "id": "tLlBsr1Z6faT"
      },
      "id": "tLlBsr1Z6faT",
      "execution_count": 4,
      "outputs": []
    },
    {
      "cell_type": "code",
      "source": [
        "print(list1)"
      ],
      "metadata": {
        "colab": {
          "base_uri": "https://localhost:8080/"
        },
        "id": "biKOzNJr6lgO",
        "outputId": "2bc4bdd8-8729-4b29-d27f-89684ac70d46"
      },
      "id": "biKOzNJr6lgO",
      "execution_count": 5,
      "outputs": [
        {
          "output_type": "stream",
          "name": "stdout",
          "text": [
            "[5, 4, 3, 2, 1]\n"
          ]
        }
      ]
    },
    {
      "cell_type": "code",
      "source": [
        "def return_string_backwards(string_var):\n",
        "  str_list = string_var.split(\" \")\n",
        "  str_list = str_list[::-1]\n",
        "  print(str_list)"
      ],
      "metadata": {
        "id": "ZfV0kdWQY7Jc"
      },
      "id": "ZfV0kdWQY7Jc",
      "execution_count": 6,
      "outputs": []
    },
    {
      "cell_type": "code",
      "source": [
        "return_string_backwards(\"Billy Bob Joe was a boy in the Appalachain Mountains\")"
      ],
      "metadata": {
        "colab": {
          "base_uri": "https://localhost:8080/"
        },
        "id": "zxpcLq9v6ri4",
        "outputId": "06839871-413c-4491-d903-f33a3d9b9828"
      },
      "id": "zxpcLq9v6ri4",
      "execution_count": 8,
      "outputs": [
        {
          "output_type": "stream",
          "name": "stdout",
          "text": [
            "['Mountains', 'Appalachain', 'the', 'in', 'boy', 'a', 'was', 'Joe', 'Bob', 'Billy']\n"
          ]
        }
      ]
    },
    {
      "cell_type": "code",
      "source": [],
      "metadata": {
        "id": "CILqGdeu6vZy"
      },
      "id": "CILqGdeu6vZy",
      "execution_count": null,
      "outputs": []
    }
  ],
  "metadata": {
    "kernelspec": {
      "display_name": "Python 3 (ipykernel)",
      "language": "python",
      "name": "python3"
    },
    "language_info": {
      "codemirror_mode": {
        "name": "ipython",
        "version": 3
      },
      "file_extension": ".py",
      "mimetype": "text/x-python",
      "name": "python",
      "nbconvert_exporter": "python",
      "pygments_lexer": "ipython3",
      "version": "3.9.13"
    },
    "colab": {
      "provenance": [],
      "collapsed_sections": [],
      "include_colab_link": true
    }
  },
  "nbformat": 4,
  "nbformat_minor": 5
}