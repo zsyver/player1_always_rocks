{
  "nbformat": 4,
  "nbformat_minor": 0,
  "metadata": {
    "colab": {
      "provenance": [],
      "collapsed_sections": [],
      "authorship_tag": "ABX9TyPFUklwvpPSSN3abF+3IaTD",
      "include_colab_link": true
    },
    "kernelspec": {
      "name": "python3",
      "display_name": "Python 3"
    },
    "language_info": {
      "name": "python"
    }
  },
  "cells": [
    {
      "cell_type": "markdown",
      "metadata": {
        "id": "view-in-github",
        "colab_type": "text"
      },
      "source": [
        "<a href=\"https://colab.research.google.com/github/zsyver/player1_always_rocks/blob/main/guess_the_number!.ipynb\" target=\"_parent\"><img src=\"https://colab.research.google.com/assets/colab-badge.svg\" alt=\"Open In Colab\"/></a>"
      ]
    },
    {
      "cell_type": "code",
      "execution_count": null,
      "metadata": {
        "id": "9tUHrBDM7iJ7"
      },
      "outputs": [],
      "source": [
        "import random as rm\n",
        "# Guess a random number between the bounds given (note that the randint function is inclusive)\n",
        "player_interest = \"y\"\n",
        "\n",
        "while player_interest == \"y\":\n",
        "    num = input(\"Guess the randomly generated number between 1 and 9 (inclusive): \")\n",
        "    random_number = rm.randint(1,3)\n",
        "    if int(num) == random_number:\n",
        "      player_interest = input('You got it! Would you like to guess again? Type \"y\" or \"n\": ')\n",
        "      continue\n",
        "    else:\n",
        "      if int(num) > random_number:\n",
        "        print(\"Too high, try again\")\n",
        "      else:\n",
        "        #For the only remaining case: int(num) < random_number\n",
        "        print(\"Too low, try again\")"
      ]
    }
  ]
}