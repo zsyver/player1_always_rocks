{
  "nbformat": 4,
  "nbformat_minor": 0,
  "metadata": {
    "colab": {
      "provenance": [],
      "collapsed_sections": [],
      "authorship_tag": "ABX9TyNdJfGyVd34f/bCG6qRtLGl",
      "include_colab_link": true
    },
    "kernelspec": {
      "name": "python3",
      "display_name": "Python 3"
    },
    "language_info": {
      "name": "python"
    }
  },
  "cells": [
    {
      "cell_type": "markdown",
      "metadata": {
        "id": "view-in-github",
        "colab_type": "text"
      },
      "source": [
        "<a href=\"https://colab.research.google.com/github/zsyver/player1_always_rocks/blob/main/player_1_always_rocks_haha.ipynb\" target=\"_parent\"><img src=\"https://colab.research.google.com/assets/colab-badge.svg\" alt=\"Open In Colab\"/></a>"
      ]
    },
    {
      "cell_type": "code",
      "execution_count": null,
      "metadata": {
        "id": "i881brYHxRdp"
      },
      "outputs": [],
      "source": [
        "while True:\n",
        "  try:\n",
        "    player1_choice = input(\"Player 1, please input your choice: \")\n",
        "    player2_choice = input(\"Player 2, please input your choice: \")\n",
        "    if (player1_choice.lower() or player2_choice.lower()) not in [\"rock\",\"paper\",\"scissors\"] or (player1_choice.lower() == player2_choice.lower()):\n",
        "        raise ValueError #Back to input for valid entry\n",
        "    else:\n",
        "        p1_level = 1\n",
        "        p2_level = 1\n",
        "        if player1_choice.lower() == \"rock\":\n",
        "          p1_level = 3\n",
        "        elif player1_choice.lower() == \"scissors\":\n",
        "          p1_level = 2\n",
        "        elif player1_choice.lower() == \"paper\":\n",
        "          p1_level = 1\n",
        "        elif player2_choice.lower() == \"rock\":\n",
        "          p2_level = 3\n",
        "        elif player2_choice.lower() == \"scissors\":\n",
        "          p2_level = 2\n",
        "        else:\n",
        "          player2_choice.lower() == \"paper\"\n",
        "          p2_level = 1\n",
        "        if p1_level > p2_level:\n",
        "          print(\"Player 1 won!\")\n",
        "        else:\n",
        "          print(\"Player 2 won!\")\n",
        "    break\n",
        "  except ValueError:\n",
        "    print('Players 1 and 2, please enter one of three options: \"Rock\", \"Paper\", or \"Scissors\"')"
      ]
    }
  ]
}